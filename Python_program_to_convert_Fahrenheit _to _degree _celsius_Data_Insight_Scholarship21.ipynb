{
 "cells": [
  {
   "cell_type": "code",
   "execution_count": 1,
   "id": "e1df6346",
   "metadata": {},
   "outputs": [],
   "source": [
    "# Import necessary libraries\n",
    "import numpy as np"
   ]
  },
  {
   "cell_type": "markdown",
   "id": "ae6be3cc",
   "metadata": {},
   "source": [
    "# Python program to convert Fahrenheit to degree celsius"
   ]
  },
  {
   "cell_type": "markdown",
   "id": "87a56f41",
   "metadata": {},
   "source": [
    "\n",
    "\n",
    "(°F – 32) x 5/9 = °C or in plain english, First subtract 32, then multiply by 5, then divide by 9."
   ]
  },
  {
   "cell_type": "code",
   "execution_count": 2,
   "id": "75a36b16",
   "metadata": {},
   "outputs": [
    {
     "data": {
      "text/plain": [
       "'2 Fahrenheit is equivalent to -16.67 Degree Celsius'"
      ]
     },
     "execution_count": 2,
     "metadata": {},
     "output_type": "execute_result"
    }
   ],
   "source": [
    "# A function to convert fahrenheit to degree celsius\n",
    "def temperature_converter(Fahrenheit):\n",
    "    '''\n",
    "    Input the temperature to convert to Celsius\n",
    "    \n",
    "    Fahrenheit to Celsius\n",
    "    °C = (°F – 32) x 5/9\n",
    "    \n",
    "    Celsius to Fahrenheit\n",
    "    Fahrenheit = 9.0/5.0 * Celsius + 32 \n",
    "    '''\n",
    "    Celsius = (Fahrenheit - 32) * 5.0/9.0\n",
    "    \n",
    "    Celsius = np.round(Celsius,2)\n",
    "    \n",
    "    return '{} Fahrenheit is equivalent to {} Degree Celsius'.format(Fahrenheit,Celsius)\n",
    "\n",
    "# Invoke the function\n",
    "temperature_converter(2)\n"
   ]
  }
 ],
 "metadata": {
  "kernelspec": {
   "display_name": "Python 3",
   "language": "python",
   "name": "python3"
  },
  "language_info": {
   "codemirror_mode": {
    "name": "ipython",
    "version": 3
   },
   "file_extension": ".py",
   "mimetype": "text/x-python",
   "name": "python",
   "nbconvert_exporter": "python",
   "pygments_lexer": "ipython3",
   "version": "3.8.8"
  }
 },
 "nbformat": 4,
 "nbformat_minor": 5
}
